{
 "cells": [
  {
   "cell_type": "code",
   "execution_count": 2,
   "id": "f58e8427",
   "metadata": {},
   "outputs": [],
   "source": [
    "import pandas as pd\n",
    "import numpy as np\n",
    "import seaborn as sns\n",
    "import matplotlib.pyplot as plt\n"
   ]
  },
  {
   "cell_type": "code",
   "execution_count": 3,
   "id": "101961a8",
   "metadata": {},
   "outputs": [],
   "source": [
    "df = pd.read_csv(\"europe-motorbikes.csv\")"
   ]
  },
  {
   "cell_type": "code",
   "execution_count": 4,
   "id": "99acce61",
   "metadata": {},
   "outputs": [
    {
     "data": {
      "text/html": [
       "<div>\n",
       "<style scoped>\n",
       "    .dataframe tbody tr th:only-of-type {\n",
       "        vertical-align: middle;\n",
       "    }\n",
       "\n",
       "    .dataframe tbody tr th {\n",
       "        vertical-align: top;\n",
       "    }\n",
       "\n",
       "    .dataframe thead th {\n",
       "        text-align: right;\n",
       "    }\n",
       "</style>\n",
       "<table border=\"1\" class=\"dataframe\">\n",
       "  <thead>\n",
       "    <tr style=\"text-align: right;\">\n",
       "      <th></th>\n",
       "      <th>price</th>\n",
       "      <th>mileage</th>\n",
       "      <th>power</th>\n",
       "      <th>make_model</th>\n",
       "      <th>date</th>\n",
       "      <th>fuel</th>\n",
       "      <th>gear</th>\n",
       "      <th>offer_type</th>\n",
       "      <th>version</th>\n",
       "      <th>link</th>\n",
       "    </tr>\n",
       "  </thead>\n",
       "  <tbody>\n",
       "    <tr>\n",
       "      <th>0</th>\n",
       "      <td>23990</td>\n",
       "      <td>150</td>\n",
       "      <td>218.0</td>\n",
       "      <td>Honda</td>\n",
       "      <td>03/2020</td>\n",
       "      <td>Gasoline</td>\n",
       "      <td>Manual</td>\n",
       "      <td>Demonstration</td>\n",
       "      <td>CBR1000RR-R Fireblade SP</td>\n",
       "      <td>/offers/honda-others-cbr1000rr-r-fireblade-sp-...</td>\n",
       "    </tr>\n",
       "    <tr>\n",
       "      <th>1</th>\n",
       "      <td>7500</td>\n",
       "      <td>2871</td>\n",
       "      <td>90.0</td>\n",
       "      <td>BMW F 800 GT</td>\n",
       "      <td>09/2018</td>\n",
       "      <td>Gasoline</td>\n",
       "      <td>Manual</td>\n",
       "      <td>Used</td>\n",
       "      <td>NaN</td>\n",
       "      <td>/offers/bmw-f-800-gt-gasoline-white-f65273c6-6...</td>\n",
       "    </tr>\n",
       "    <tr>\n",
       "      <th>2</th>\n",
       "      <td>800</td>\n",
       "      <td>1700</td>\n",
       "      <td>3.0</td>\n",
       "      <td>Nova Motors Retro Star</td>\n",
       "      <td>10/2019</td>\n",
       "      <td>Gasoline</td>\n",
       "      <td>NaN</td>\n",
       "      <td>Used</td>\n",
       "      <td>NaN</td>\n",
       "      <td>/offers/nova-motors-retro-star-gasoline-red-f8...</td>\n",
       "    </tr>\n",
       "    <tr>\n",
       "      <th>3</th>\n",
       "      <td>14990</td>\n",
       "      <td>24345</td>\n",
       "      <td>NaN</td>\n",
       "      <td>Aprilia RSV4</td>\n",
       "      <td>03/2016</td>\n",
       "      <td>Gasoline</td>\n",
       "      <td>NaN</td>\n",
       "      <td>Used</td>\n",
       "      <td>RF</td>\n",
       "      <td>/offers/aprilia-rsv4-rf-gasoline-silver-1b51fe...</td>\n",
       "    </tr>\n",
       "    <tr>\n",
       "      <th>4</th>\n",
       "      <td>6200</td>\n",
       "      <td>25000</td>\n",
       "      <td>128.0</td>\n",
       "      <td>Kawasaki Ninja ZX-6R</td>\n",
       "      <td>08/2009</td>\n",
       "      <td>Gasoline</td>\n",
       "      <td>NaN</td>\n",
       "      <td>Used</td>\n",
       "      <td>NaN</td>\n",
       "      <td>/offers/kawasaki-ninja-zx-6r-gasoline-blue-2f8...</td>\n",
       "    </tr>\n",
       "  </tbody>\n",
       "</table>\n",
       "</div>"
      ],
      "text/plain": [
       "   price  mileage  power              make_model     date      fuel    gear  \\\n",
       "0  23990      150  218.0                   Honda  03/2020  Gasoline  Manual   \n",
       "1   7500     2871   90.0            BMW F 800 GT  09/2018  Gasoline  Manual   \n",
       "2    800     1700    3.0  Nova Motors Retro Star  10/2019  Gasoline     NaN   \n",
       "3  14990    24345    NaN            Aprilia RSV4  03/2016  Gasoline     NaN   \n",
       "4   6200    25000  128.0    Kawasaki Ninja ZX-6R  08/2009  Gasoline     NaN   \n",
       "\n",
       "      offer_type                   version  \\\n",
       "0  Demonstration  CBR1000RR-R Fireblade SP   \n",
       "1           Used                       NaN   \n",
       "2           Used                       NaN   \n",
       "3           Used                        RF   \n",
       "4           Used                       NaN   \n",
       "\n",
       "                                                link  \n",
       "0  /offers/honda-others-cbr1000rr-r-fireblade-sp-...  \n",
       "1  /offers/bmw-f-800-gt-gasoline-white-f65273c6-6...  \n",
       "2  /offers/nova-motors-retro-star-gasoline-red-f8...  \n",
       "3  /offers/aprilia-rsv4-rf-gasoline-silver-1b51fe...  \n",
       "4  /offers/kawasaki-ninja-zx-6r-gasoline-blue-2f8...  "
      ]
     },
     "execution_count": 4,
     "metadata": {},
     "output_type": "execute_result"
    }
   ],
   "source": [
    "df.head()"
   ]
  },
  {
   "cell_type": "code",
   "execution_count": 5,
   "id": "245c7fef",
   "metadata": {},
   "outputs": [
    {
     "name": "stdout",
     "output_type": "stream",
     "text": [
      "<class 'pandas.core.frame.DataFrame'>\n",
      "RangeIndex: 34917 entries, 0 to 34916\n",
      "Data columns (total 10 columns):\n",
      " #   Column      Non-Null Count  Dtype  \n",
      "---  ------      --------------  -----  \n",
      " 0   price       34917 non-null  int64  \n",
      " 1   mileage     34917 non-null  int64  \n",
      " 2   power       28598 non-null  float64\n",
      " 3   make_model  34917 non-null  object \n",
      " 4   date        34917 non-null  object \n",
      " 5   fuel        31727 non-null  object \n",
      " 6   gear        12847 non-null  object \n",
      " 7   offer_type  34917 non-null  object \n",
      " 8   version     17413 non-null  object \n",
      " 9   link        34917 non-null  object \n",
      "dtypes: float64(1), int64(2), object(7)\n",
      "memory usage: 2.7+ MB\n"
     ]
    }
   ],
   "source": [
    "df.info()"
   ]
  },
  {
   "cell_type": "code",
   "execution_count": 6,
   "id": "443e74db",
   "metadata": {},
   "outputs": [
    {
     "data": {
      "text/plain": [
       "(34917, 10)"
      ]
     },
     "execution_count": 6,
     "metadata": {},
     "output_type": "execute_result"
    }
   ],
   "source": [
    "df.shape"
   ]
  },
  {
   "cell_type": "code",
   "execution_count": 7,
   "id": "3f110953",
   "metadata": {},
   "outputs": [],
   "source": [
    "pd.set_option(\"display.float_format\",\"{:.2f}\".format)"
   ]
  },
  {
   "cell_type": "code",
   "execution_count": 8,
   "id": "abcf511c",
   "metadata": {},
   "outputs": [
    {
     "data": {
      "text/html": [
       "<div>\n",
       "<style scoped>\n",
       "    .dataframe tbody tr th:only-of-type {\n",
       "        vertical-align: middle;\n",
       "    }\n",
       "\n",
       "    .dataframe tbody tr th {\n",
       "        vertical-align: top;\n",
       "    }\n",
       "\n",
       "    .dataframe thead th {\n",
       "        text-align: right;\n",
       "    }\n",
       "</style>\n",
       "<table border=\"1\" class=\"dataframe\">\n",
       "  <thead>\n",
       "    <tr style=\"text-align: right;\">\n",
       "      <th></th>\n",
       "      <th>price</th>\n",
       "      <th>mileage</th>\n",
       "      <th>power</th>\n",
       "    </tr>\n",
       "  </thead>\n",
       "  <tbody>\n",
       "    <tr>\n",
       "      <th>count</th>\n",
       "      <td>34917.00</td>\n",
       "      <td>34917.00</td>\n",
       "      <td>28598.00</td>\n",
       "    </tr>\n",
       "    <tr>\n",
       "      <th>mean</th>\n",
       "      <td>45685.32</td>\n",
       "      <td>21831.75</td>\n",
       "      <td>206.16</td>\n",
       "    </tr>\n",
       "    <tr>\n",
       "      <th>std</th>\n",
       "      <td>4850120.19</td>\n",
       "      <td>205942.09</td>\n",
       "      <td>9371.43</td>\n",
       "    </tr>\n",
       "    <tr>\n",
       "      <th>min</th>\n",
       "      <td>1.00</td>\n",
       "      <td>0.00</td>\n",
       "      <td>1.00</td>\n",
       "    </tr>\n",
       "    <tr>\n",
       "      <th>25%</th>\n",
       "      <td>6999.00</td>\n",
       "      <td>2932.00</td>\n",
       "      <td>50.00</td>\n",
       "    </tr>\n",
       "    <tr>\n",
       "      <th>50%</th>\n",
       "      <td>9920.00</td>\n",
       "      <td>11000.00</td>\n",
       "      <td>90.00</td>\n",
       "    </tr>\n",
       "    <tr>\n",
       "      <th>75%</th>\n",
       "      <td>12590.00</td>\n",
       "      <td>25000.00</td>\n",
       "      <td>125.00</td>\n",
       "    </tr>\n",
       "    <tr>\n",
       "      <th>max</th>\n",
       "      <td>888888888.00</td>\n",
       "      <td>9999999.00</td>\n",
       "      <td>913595.00</td>\n",
       "    </tr>\n",
       "  </tbody>\n",
       "</table>\n",
       "</div>"
      ],
      "text/plain": [
       "             price    mileage     power\n",
       "count     34917.00   34917.00  28598.00\n",
       "mean      45685.32   21831.75    206.16\n",
       "std     4850120.19  205942.09   9371.43\n",
       "min           1.00       0.00      1.00\n",
       "25%        6999.00    2932.00     50.00\n",
       "50%        9920.00   11000.00     90.00\n",
       "75%       12590.00   25000.00    125.00\n",
       "max   888888888.00 9999999.00 913595.00"
      ]
     },
     "execution_count": 8,
     "metadata": {},
     "output_type": "execute_result"
    }
   ],
   "source": [
    "df.describe()"
   ]
  },
  {
   "cell_type": "code",
   "execution_count": null,
   "id": "6b754c53",
   "metadata": {},
   "outputs": [
    {
     "data": {
      "text/plain": [
       "price             0\n",
       "mileage           0\n",
       "power          6319\n",
       "make_model        0\n",
       "date              0\n",
       "fuel           3190\n",
       "gear          22070\n",
       "offer_type        0\n",
       "version       17504\n",
       "link              0\n",
       "dtype: int64"
      ]
     },
     "execution_count": 9,
     "metadata": {},
     "output_type": "execute_result"
    }
   ],
   "source": [
    "#find null variables\n",
    "df.isnull().sum()\n",
    "#we don't drop missing values because if we do that we can delete important values"
   ]
  },
  {
   "cell_type": "code",
   "execution_count": 10,
   "id": "bbf6af9d",
   "metadata": {},
   "outputs": [
    {
     "data": {
      "text/plain": [
       "np.int64(5832)"
      ]
     },
     "execution_count": 10,
     "metadata": {},
     "output_type": "execute_result"
    }
   ],
   "source": [
    "df.duplicated().sum()"
   ]
  },
  {
   "cell_type": "code",
   "execution_count": 11,
   "id": "cb0ee8f8",
   "metadata": {},
   "outputs": [],
   "source": [
    "df.drop_duplicates(inplace=True)"
   ]
  },
  {
   "cell_type": "code",
   "execution_count": 12,
   "id": "8a6830a9",
   "metadata": {},
   "outputs": [
    {
     "data": {
      "text/plain": [
       "np.int64(0)"
      ]
     },
     "execution_count": 12,
     "metadata": {},
     "output_type": "execute_result"
    }
   ],
   "source": [
    "df.duplicated().sum()"
   ]
  },
  {
   "cell_type": "markdown",
   "id": "5622f1cd",
   "metadata": {},
   "source": [
    "EDA"
   ]
  },
  {
   "cell_type": "code",
   "execution_count": 13,
   "id": "31ee7abf",
   "metadata": {},
   "outputs": [
    {
     "data": {
      "image/png": "[encoded data removed]",
      "text/plain": [
       "<Figure size 640x480 with 1 Axes>"
      ]
     },
     "metadata": {},
     "output_type": "display_data"
    }
   ],
   "source": [
    "sns.countplot(x=\"fuel\", data = df)\n",
    "plt.xlabel(\"Fuel Type\")\n",
    "plt.ylabel(\"Count\")\n",
    "plt.title(\"Count of Motobikes by Fuel Types\")\n",
    "plt.xticks(rotation=45)\n",
    "plt.show()"
   ]
  },
  {
   "cell_type": "code",
   "execution_count": 15,
   "id": "e42fc70a",
   "metadata": {},
   "outputs": [
    {
     "data": {
      "text/plain": [
       "gear\n",
       "Automatic         80.23\n",
       "Manual           103.79\n",
       "Semi-automatic   126.93\n",
       "Name: power, dtype: float64"
      ]
     },
     "execution_count": 15,
     "metadata": {},
     "output_type": "execute_result"
    }
   ],
   "source": [
    "gear_power= df.groupby(\"gear\")[\"power\"].mean()\n",
    "gear_power"
   ]
  },
  {
   "cell_type": "code",
   "execution_count": 18,
   "id": "a2c8b1c9",
   "metadata": {},
   "outputs": [],
   "source": [
    "df.sort_values(by=\"price\",ascending=False, inplace=True)"
   ]
  },
  {
   "cell_type": "code",
   "execution_count": 19,
   "id": "c1e77b34",
   "metadata": {},
   "outputs": [
    {
     "data": {
      "text/html": [
       "<div>\n",
       "<style scoped>\n",
       "    .dataframe tbody tr th:only-of-type {\n",
       "        vertical-align: middle;\n",
       "    }\n",
       "\n",
       "    .dataframe tbody tr th {\n",
       "        vertical-align: top;\n",
       "    }\n",
       "\n",
       "    .dataframe thead th {\n",
       "        text-align: right;\n",
       "    }\n",
       "</style>\n",
       "<table border=\"1\" class=\"dataframe\">\n",
       "  <thead>\n",
       "    <tr style=\"text-align: right;\">\n",
       "      <th></th>\n",
       "      <th>price</th>\n",
       "      <th>mileage</th>\n",
       "      <th>power</th>\n",
       "      <th>make_model</th>\n",
       "      <th>date</th>\n",
       "      <th>fuel</th>\n",
       "      <th>gear</th>\n",
       "      <th>offer_type</th>\n",
       "      <th>version</th>\n",
       "      <th>link</th>\n",
       "    </tr>\n",
       "  </thead>\n",
       "  <tbody>\n",
       "    <tr>\n",
       "      <th>23654</th>\n",
       "      <td>888888888</td>\n",
       "      <td>1196</td>\n",
       "      <td>10.00</td>\n",
       "      <td>SYM SYMNH X</td>\n",
       "      <td>08/2019</td>\n",
       "      <td>Gasoline</td>\n",
       "      <td>Manual</td>\n",
       "      <td>Used</td>\n",
       "      <td>!!! VENDUE !!! indisponible</td>\n",
       "      <td>/offers/sym-symnh-x-vendue-indisponible-gasoli...</td>\n",
       "    </tr>\n",
       "    <tr>\n",
       "      <th>6857</th>\n",
       "      <td>123456789</td>\n",
       "      <td>24</td>\n",
       "      <td>175.00</td>\n",
       "      <td>EBR RS</td>\n",
       "      <td>11/2011</td>\n",
       "      <td>Gasoline</td>\n",
       "      <td>Manual</td>\n",
       "      <td>Used</td>\n",
       "      <td>EBR 1190 RS Nieuw !</td>\n",
       "      <td>/offers/ebr-rs-ebr-1190-rs-nieuw-gasoline-blac...</td>\n",
       "    </tr>\n",
       "    <tr>\n",
       "      <th>20925</th>\n",
       "      <td>123456789</td>\n",
       "      <td>24000</td>\n",
       "      <td>101.00</td>\n",
       "      <td>Buell XB 12</td>\n",
       "      <td>06/2009</td>\n",
       "      <td>Gasoline</td>\n",
       "      <td>Manual</td>\n",
       "      <td>Used</td>\n",
       "      <td>NaN</td>\n",
       "      <td>/offers/buell-xb-12-gasoline-red-6bd3eec5-449d...</td>\n",
       "    </tr>\n",
       "    <tr>\n",
       "      <th>32668</th>\n",
       "      <td>9999999</td>\n",
       "      <td>9999999</td>\n",
       "      <td>12.00</td>\n",
       "      <td>Kawasaki 400 S3</td>\n",
       "      <td>04/2019</td>\n",
       "      <td>Gasoline</td>\n",
       "      <td>NaN</td>\n",
       "      <td>Used</td>\n",
       "      <td>NaN</td>\n",
       "      <td>/offers/kawasaki-400-s3-gasoline-green-0ff295c...</td>\n",
       "    </tr>\n",
       "    <tr>\n",
       "      <th>12571</th>\n",
       "      <td>9999999</td>\n",
       "      <td>9999999</td>\n",
       "      <td>135.00</td>\n",
       "      <td>BMW C 400 GT</td>\n",
       "      <td>01/2021</td>\n",
       "      <td>LPG</td>\n",
       "      <td>NaN</td>\n",
       "      <td>Used</td>\n",
       "      <td>NaN</td>\n",
       "      <td>/offers/bmw-c-400-gt-lpg-green-a8ba900e-ea46-4...</td>\n",
       "    </tr>\n",
       "    <tr>\n",
       "      <th>...</th>\n",
       "      <td>...</td>\n",
       "      <td>...</td>\n",
       "      <td>...</td>\n",
       "      <td>...</td>\n",
       "      <td>...</td>\n",
       "      <td>...</td>\n",
       "      <td>...</td>\n",
       "      <td>...</td>\n",
       "      <td>...</td>\n",
       "      <td>...</td>\n",
       "    </tr>\n",
       "    <tr>\n",
       "      <th>4285</th>\n",
       "      <td>50</td>\n",
       "      <td>1000</td>\n",
       "      <td>8.00</td>\n",
       "      <td>Husaberg FE 550</td>\n",
       "      <td>11/2006</td>\n",
       "      <td>Gasoline</td>\n",
       "      <td>NaN</td>\n",
       "      <td>Used</td>\n",
       "      <td>Force</td>\n",
       "      <td>/offers/husaberg-fe-550-force-gasoline-blue-ec...</td>\n",
       "    </tr>\n",
       "    <tr>\n",
       "      <th>34899</th>\n",
       "      <td>50</td>\n",
       "      <td>390</td>\n",
       "      <td>1.00</td>\n",
       "      <td>Kymco Like 50</td>\n",
       "      <td>06/2011</td>\n",
       "      <td>Gasoline</td>\n",
       "      <td>NaN</td>\n",
       "      <td>Used</td>\n",
       "      <td>NaN</td>\n",
       "      <td>/offers/kymco-like-50-gasoline-white-70b79c85-...</td>\n",
       "    </tr>\n",
       "    <tr>\n",
       "      <th>19000</th>\n",
       "      <td>50</td>\n",
       "      <td>40000</td>\n",
       "      <td>19.00</td>\n",
       "      <td>Aprilia Sportcity 200</td>\n",
       "      <td>05/2006</td>\n",
       "      <td>Gasoline</td>\n",
       "      <td>Automatic</td>\n",
       "      <td>Used</td>\n",
       "      <td>NaN</td>\n",
       "      <td>/offers/aprilia-sportcity-200-gasoline-black-9...</td>\n",
       "    </tr>\n",
       "    <tr>\n",
       "      <th>15003</th>\n",
       "      <td>2</td>\n",
       "      <td>23000</td>\n",
       "      <td>14.00</td>\n",
       "      <td>Dnepr MT 10</td>\n",
       "      <td>09/1984</td>\n",
       "      <td>Gasoline</td>\n",
       "      <td>Manual</td>\n",
       "      <td>Antique / Classic</td>\n",
       "      <td>36 Sidecar</td>\n",
       "      <td>/offers/dnepr-mt-10-36-sidecar-gasoline-black-...</td>\n",
       "    </tr>\n",
       "    <tr>\n",
       "      <th>8563</th>\n",
       "      <td>1</td>\n",
       "      <td>16010</td>\n",
       "      <td>63.00</td>\n",
       "      <td>KTM 690 Duke</td>\n",
       "      <td>10/2009</td>\n",
       "      <td>Gasoline</td>\n",
       "      <td>NaN</td>\n",
       "      <td>Used</td>\n",
       "      <td>NaN</td>\n",
       "      <td>/offers/ktm-690-duke-gasoline-orange-636e30c7-...</td>\n",
       "    </tr>\n",
       "  </tbody>\n",
       "</table>\n",
       "<p>29085 rows × 10 columns</p>\n",
       "</div>"
      ],
      "text/plain": [
       "           price  mileage  power             make_model     date      fuel  \\\n",
       "23654  888888888     1196  10.00            SYM SYMNH X  08/2019  Gasoline   \n",
       "6857   123456789       24 175.00                 EBR RS  11/2011  Gasoline   \n",
       "20925  123456789    24000 101.00            Buell XB 12  06/2009  Gasoline   \n",
       "32668    9999999  9999999  12.00        Kawasaki 400 S3  04/2019  Gasoline   \n",
       "12571    9999999  9999999 135.00           BMW C 400 GT  01/2021       LPG   \n",
       "...          ...      ...    ...                    ...      ...       ...   \n",
       "4285          50     1000   8.00        Husaberg FE 550  11/2006  Gasoline   \n",
       "34899         50      390   1.00          Kymco Like 50  06/2011  Gasoline   \n",
       "19000         50    40000  19.00  Aprilia Sportcity 200  05/2006  Gasoline   \n",
       "15003          2    23000  14.00            Dnepr MT 10  09/1984  Gasoline   \n",
       "8563           1    16010  63.00           KTM 690 Duke  10/2009  Gasoline   \n",
       "\n",
       "            gear         offer_type                      version  \\\n",
       "23654     Manual               Used  !!! VENDUE !!! indisponible   \n",
       "6857      Manual               Used          EBR 1190 RS Nieuw !   \n",
       "20925     Manual               Used                          NaN   \n",
       "32668        NaN               Used                          NaN   \n",
       "12571        NaN               Used                          NaN   \n",
       "...          ...                ...                          ...   \n",
       "4285         NaN               Used                        Force   \n",
       "34899        NaN               Used                          NaN   \n",
       "19000  Automatic               Used                          NaN   \n",
       "15003     Manual  Antique / Classic                   36 Sidecar   \n",
       "8563         NaN               Used                          NaN   \n",
       "\n",
       "                                                    link  \n",
       "23654  /offers/sym-symnh-x-vendue-indisponible-gasoli...  \n",
       "6857   /offers/ebr-rs-ebr-1190-rs-nieuw-gasoline-blac...  \n",
       "20925  /offers/buell-xb-12-gasoline-red-6bd3eec5-449d...  \n",
       "32668  /offers/kawasaki-400-s3-gasoline-green-0ff295c...  \n",
       "12571  /offers/bmw-c-400-gt-lpg-green-a8ba900e-ea46-4...  \n",
       "...                                                  ...  \n",
       "4285   /offers/husaberg-fe-550-force-gasoline-blue-ec...  \n",
       "34899  /offers/kymco-like-50-gasoline-white-70b79c85-...  \n",
       "19000  /offers/aprilia-sportcity-200-gasoline-black-9...  \n",
       "15003  /offers/dnepr-mt-10-36-sidecar-gasoline-black-...  \n",
       "8563   /offers/ktm-690-duke-gasoline-orange-636e30c7-...  \n",
       "\n",
       "[29085 rows x 10 columns]"
      ]
     },
     "execution_count": 19,
     "metadata": {},
     "output_type": "execute_result"
    }
   ],
   "source": [
    "df"
   ]
  },
  {
   "cell_type": "code",
   "execution_count": 20,
   "id": "c694e104",
   "metadata": {},
   "outputs": [
    {
     "data": {
      "text/plain": [
       "offer_type\n",
       "Used                 26263\n",
       "New                   1730\n",
       "Demonstration          680\n",
       "Pre-registered         239\n",
       "Antique / Classic      173\n",
       "Name: count, dtype: int64"
      ]
     },
     "execution_count": 20,
     "metadata": {},
     "output_type": "execute_result"
    }
   ],
   "source": [
    "offer_counts =df[\"offer_type\"].value_counts()\n",
    "offer_counts"
   ]
  },
  {
   "cell_type": "code",
   "execution_count": 21,
   "id": "e7f35417",
   "metadata": {},
   "outputs": [
    {
     "data": {
      "text/plain": [
       "make_model\n",
       "BMW R 1200 GS              678\n",
       "BMW R nineT                377\n",
       "Others                     336\n",
       "Harley-Davidson Softail    328\n",
       "Honda                      323\n",
       "                          ... \n",
       "Honda RC 213                 1\n",
       "MV Agusta 750 S              1\n",
       "Suzuki GN 250                1\n",
       "Cagiva                       1\n",
       "IO 1500 GT                   1\n",
       "Name: count, Length: 2168, dtype: int64"
      ]
     },
     "execution_count": 21,
     "metadata": {},
     "output_type": "execute_result"
    }
   ],
   "source": [
    "make_model_counts = df[\"make_model\"].value_counts()\n",
    "make_model_counts"
   ]
  },
  {
   "cell_type": "code",
   "execution_count": 23,
   "id": "954c54dd",
   "metadata": {},
   "outputs": [
    {
     "data": {
      "text/plain": [
       "fuel\n",
       "Diesel                 163621.05\n",
       "Electric                 6202.65\n",
       "Electric/Gasoline        6037.38\n",
       "Gasoline                57857.77\n",
       "LPG                   5003124.50\n",
       "Others                   9453.84\n",
       "Two Stroke Gasoline      3713.34\n",
       "Name: price, dtype: float64"
      ]
     },
     "execution_count": 23,
     "metadata": {},
     "output_type": "execute_result"
    }
   ],
   "source": [
    "fuel_avg_price = df.groupby(\"fuel\")[\"price\"].mean()\n",
    "fuel_avg_price"
   ]
  },
  {
   "cell_type": "code",
   "execution_count": null,
   "id": "251c3f61",
   "metadata": {},
   "outputs": [],
   "source": []
  }
 ],
 "metadata": {
  "kernelspec": {
   "display_name": "Python 3",
   "language": "python",
   "name": "python3"
  },
  "language_info": {
   "codemirror_mode": {
    "name": "ipython",
    "version": 3
   },
   "file_extension": ".py",
   "mimetype": "text/x-python",
   "name": "python",
   "nbconvert_exporter": "python",
   "pygments_lexer": "ipython3",
   "version": "3.13.3"
  }
 },
 "nbformat": 4,
 "nbformat_minor": 5
}
